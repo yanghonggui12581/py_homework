{
 "cells": [
  {
   "cell_type": "code",
   "execution_count": 1,
   "metadata": {},
   "outputs": [],
   "source": [
    "import os\n",
    "from PyPDF2 import PdfReader, PdfWriter"
   ]
  },
  {
   "cell_type": "code",
   "execution_count": 2,
   "metadata": {},
   "outputs": [
    {
     "name": "stdout",
     "output_type": "stream",
     "text": [
      "已成功创建 .\\\\2023-Python-Advanced\\\\Week 5\\\\Week 5\\\\mypdfs\\new.pdf 文件，其中包含所有PDF的第一页。\n"
     ]
    }
   ],
   "source": [
    "# 设置你想要搜索PDF文件的目录路径\n",
    "pdf_dir_path = r\".\\\\2023-Python-Advanced\\\\Week 5\\\\Week 5\\\\mypdfs\"\n",
    "\n",
    "# 创建PDF写入器实例\n",
    "pdf_writer = PdfWriter()\n",
    "\n",
    "# 遍历指定目录下的所有文件\n",
    "for filename in os.listdir(pdf_dir_path):\n",
    "    if filename.lower().endswith('.pdf'):\n",
    "        # 构建完整的PDF文件路径\n",
    "        pdf_path = os.path.join(pdf_dir_path, filename)\n",
    "\n",
    "        # 读取PDF文件\n",
    "        try:\n",
    "            pdf_reader = PdfReader(pdf_path)\n",
    "\n",
    "            # 获取第一页并添加到写入器\n",
    "            first_page = pdf_reader.pages[0]\n",
    "            pdf_writer.add_page(first_page)\n",
    "        except IndexError:\n",
    "            print(f\"文件 {filename} 似乎是空的。\")\n",
    "        except Exception as e:\n",
    "            print(f\"处理文件 {filename} 时发生错误：{e}\")\n",
    "\n",
    "# 创建最终的PDF文件\n",
    "new_pdf_path = os.path.join(pdf_dir_path, \"new.pdf\")\n",
    "with open(new_pdf_path, \"wb\") as out_file:\n",
    "    pdf_writer.write(out_file)\n",
    "\n",
    "print(f\"已成功创建 {new_pdf_path} 文件，其中包含所有PDF的第一页。\")"
   ]
  }
 ],
 "metadata": {
  "kernelspec": {
   "display_name": "analysis",
   "language": "python",
   "name": "python3"
  },
  "language_info": {
   "codemirror_mode": {
    "name": "ipython",
    "version": 3
   },
   "file_extension": ".py",
   "mimetype": "text/x-python",
   "name": "python",
   "nbconvert_exporter": "python",
   "pygments_lexer": "ipython3",
   "version": "3.9.9"
  }
 },
 "nbformat": 4,
 "nbformat_minor": 2
}
